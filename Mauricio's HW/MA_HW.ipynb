{
 "cells": [
  {
   "cell_type": "code",
   "execution_count": 9,
   "metadata": {},
   "outputs": [
    {
     "data": {
      "text/plain": [
       "2563205.0391401984"
      ]
     },
     "execution_count": 9,
     "metadata": {},
     "output_type": "execute_result"
    }
   ],
   "source": [
    "#bulk of this code is from Prof. Droescher's Intro to Python Notebook in his class repository\n",
    "\n",
    "cur_age = int(input(\"How old are you?\"))\n",
    "salary = int(input(\"What is your starting salary?\"))\n",
    "rf_rate = float(input(\"What is the inflation rate?\"))\n",
    "match_rate = float(input(\"What percent of your salary does your company match?\"))\n",
    "acct_bal = int(input(\"What is your current account balance? \"))\n",
    "deposit = int(input(\"How much will you contribute every year? \"))\n",
    "ret_age = int(input(\"When do you want to retire?\"))\n",
    "inv = int(input(\"How much are you initially investing?\"))\n",
    "\n",
    "matching = 0\n",
    "\n",
    "#this for loop is finding the account balance given an expected retirement age as the goal\n",
    "\n",
    "for year in range(cur_age, ret_age):\n",
    "    salary *= 1 + rf_rate\n",
    "    matching = salary * match_rate\n",
    "    inv *= 1 + 0.14\n",
    "    acct_bal += deposit + matching + inv\n",
    "\n",
    "acct_bal"
   ]
  },
  {
   "cell_type": "code",
   "execution_count": null,
   "metadata": {},
   "outputs": [],
   "source": [
    "cur_age = int(input(\"How old are you?\"))\n",
    "salary = int(input(\"What is your starting salary?\"))\n",
    "rf_rate = float(input(\"What is the inflation rate?\"))\n",
    "match_rate = float(input(\"What percent of your salary does your company match?\"))\n",
    "acct_bal = int(input(\"What is your current account balance? \"))\n",
    "deposit = int(input(\"How much will you contribute every year? \"))\n",
    "inv = int(input(\"How much are you initially investing?\"))\n",
    "bal_goal = int(input(\"How much money do you want to retire with\"))\n",
    "\n",
    "matching = 0\n",
    "match_rate = match_rate/100\n",
    "#this while loop is finding the age you can retire given an account balance goal\n",
    "\n",
    "while acct_bal < bal_goal:\n",
    "    salary *= 1 + rf_rate\n",
    "    matching = salary * match_rate\n",
    "    inv *= 1 + 0.14\n",
    "    acct_bal += deposit + matching + inv\n",
    "    cur_age += 1\n",
    "\n",
    "print(cur_age)"
   ]
  },
  {
   "cell_type": "code",
   "execution_count": 7,
   "metadata": {},
   "outputs": [],
   "source": [
    "#function definition for the for loop\n",
    "def ret_amt(cur_age: int,salary: int, rf_rate: float,match_rate: float,acct_bal: int,deposit: int,ret_age: int,inv: int):\n",
    "        for year in range(cur_age, ret_age):\n",
    "                salary *= 1 + rf_rate\n",
    "                matching = salary * match_rate\n",
    "                inv *= 1 + 0.14\n",
    "                acct_bal += deposit + matching + inv\n",
    "        return acct_bal\n"
   ]
  },
  {
   "cell_type": "code",
   "execution_count": 8,
   "metadata": {},
   "outputs": [
    {
     "data": {
      "text/plain": [
       "2563205.0391401984"
      ]
     },
     "execution_count": 8,
     "metadata": {},
     "output_type": "execute_result"
    }
   ],
   "source": [
    "#test values using my figures\n",
    "ret_amt(22,60000,0.025,0.05,17000,300,65,100)"
   ]
  },
  {
   "cell_type": "code",
   "execution_count": 12,
   "metadata": {},
   "outputs": [],
   "source": [
    "#function definition for while loop\n",
    "def ret_goal(cur_age: int,salary: int, rf_rate: float,match_rate: float,acct_bal: int,deposit: int,inv: int,bal_goal: int):\n",
    "      while acct_bal < bal_goal:\n",
    "            salary *= 1 + rf_rate\n",
    "            matching = salary * match_rate\n",
    "            inv *= 1 + 0.14\n",
    "            acct_bal += deposit + matching + inv\n",
    "            cur_age += 1\n",
    "      print(cur_age)  \n"
   ]
  },
  {
   "cell_type": "code",
   "execution_count": 13,
   "metadata": {},
   "outputs": [
    {
     "name": "stdout",
     "output_type": "stream",
     "text": [
      "57\n"
     ]
    }
   ],
   "source": [
    "#test values using my figures\n",
    "ret_goal(22,60000,0.025,0.05,17000,300,100,1000000)"
   ]
  }
 ],
 "metadata": {
  "kernelspec": {
   "display_name": "Python 3",
   "language": "python",
   "name": "python3"
  },
  "language_info": {
   "codemirror_mode": {
    "name": "ipython",
    "version": 3
   },
   "file_extension": ".py",
   "mimetype": "text/x-python",
   "name": "python",
   "nbconvert_exporter": "python",
   "pygments_lexer": "ipython3",
   "version": "3.10.7"
  }
 },
 "nbformat": 4,
 "nbformat_minor": 2
}
