#credit to Professor Droescher for the bulk of this code
{
 "cells": [
  {
   "cell_type": "markdown",
   "metadata": {},
   "source": [
    "1. Convert variables to dynamic inputs"
   ]
  },
  {
   "cell_type": "code",
   "execution_count": null,
   "metadata": {},
   "outputs": [],
   "source": [
    "acct_bal = int(input(\"What is your current account balance? \"))\n",
    "deposit = int(input(\"How much will you contribute every year? \"))\n",
    "cur_age = int(input(\"How old are you?\"))\n",
    "ret_age = int(input(\"When will you retire?\"))\n",
    "salary = int(input(\"What is your starting salary?\"))\n",
    "rf_rate = int(input(\"What is the inflation rate?\"))\n",
    "match_rate = int(input(\"What is your company's match rate?\"))\n",
    "matching = 0\n",
    "\n",
    "for year in range(cur_age, ret_age):\n",
    "    salary *= 1 + rf_rate\n",
    "    matching = salary * match_rate\n",
    "    acct_bal += deposit + matching\n",
    "\n",
    "acct_bal"
   ]
  },
  {
   "cell_type": "code",
   "execution_count": null,
   "metadata": {},
   "outputs": [],
   "source": [
    "acct_bal = 0\n",
    "\n",
    "while salary < 100000:\n",
    "    salary *= 1 + rf_rate\n",
    "    matching = salary * match_rate\n",
    "    acct_bal += deposit + matching\n",
    "\n",
    "print(salary)"
   ]
  },
  {
   "cell_type": "markdown",
   "metadata": {},
   "source": [
    "2. Add 14% annual investment return to both loops "
   ]
  },
  {
   "cell_type": "code",
   "execution_count": null,
   "metadata": {},
   "outputs": [],
   "source": [
    "acct_bal = int(input(\"What is your current account balance? \"))\n",
    "deposit = int(input(\"How much will you contribute every year? \"))\n",
    "cur_age = int(input(\"How old are you?\"))\n",
    "ret_age = int(input(\"When will you retire?\"))\n",
    "salary = int(input(\"What is your starting salary?\"))\n",
    "rf_rate = int(input(\"What is the inflation rate?\"))\n",
    "match_rate = int(input(\"What is your company's match rate?\"))\n",
    "matching = 0\n",
    "\n",
    "for year in range(cur_age, ret_age):\n",
    "    salary *= 1 + rf_rate\n",
    "    matching = salary * match_rate\n",
    "    acct_bal += deposit + matching + acct_bal*0.014\n",
    "\n",
    "acct_bal"
   ]
  },
  {
   "cell_type": "code",
   "execution_count": null,
   "metadata": {},
   "outputs": [],
   "source": [
    "acct_bal = 0\n",
    "\n",
    "while salary < 100000:\n",
    "    salary *= 1 + rf_rate\n",
    "    matching = salary * match_rate\n",
    "    acct_bal = deposit + matching + acct_bal*0.014\n",
    "\n",
    "print(salary)"
   ]
  },
  {
   "cell_type": "markdown",
   "metadata": {},
   "source": [
    "3a. & 3b. Estimate desired retirement balance and the age you can retire at"
   ]
  },
  {
   "cell_type": "code",
   "execution_count": null,
   "metadata": {},
   "outputs": [],
   "source": [
    "acct_bal = int(input(\"What is your current account balance? \"))\n",
    "deposit = int(input(\"How much will you contribute every year? \"))\n",
    "cur_age = int(input(\"How old are you?\"))\n",
    "ret_age = int(input(\"When do you want to retire?\"))\n",
    "salary = int(input(\"What is your starting salary?\"))\n",
    "match_rate = float(input(\"What percent of your salary does your company match?\"))\n",
    "inv = int(input(\"How much are you initially investing?\"))\n",
    "matching = 0\n",
    "rf_rate = 0.025\n",
    "\n",
    "match_rate = match_rate/100\n",
    "\n",
    "#this for loop is finding the account balance given an expected retirement age as the goal\n",
    "\n",
    "\n",
    "for year in range(cur_age, ret_age):\n",
    "    salary *= 1 + rf_rate\n",
    "    matching = salary * match_rate\n",
    "    inv *= 1 + 0.14\n",
    "    acct_bal += deposit + matching + inv\n",
    "\n",
    "acct_bal"
   ]
  },
  {
   "cell_type": "code",
   "execution_count": 31,
   "metadata": {},
   "outputs": [
    {
     "name": "stdout",
     "output_type": "stream",
     "text": [
      "58\n"
     ]
    }
   ],
   "source": [
    "acct_bal = int(input(\"What is your current account balance? \"))\n",
    "salary = int(input(\"What is your starting salary?\"))\n",
    "cur_age = int(input(\"How old are you?\"))\n",
    "deposit = int(input(\"How much will you contribute every year? \"))\n",
    "inv = int(input(\"How much are you initially investing?\"))\n",
    "bal_goal = int(input(\"How much money do you want to retire with\")) #this is how much money you want to retire with, i tested with 1M\n",
    "match_rate = float(input(\"What percent of your salary does your company match?\"))\n",
    "matching = 0\n",
    "#the while loop is finding the age you can retire given an account balance goal\n",
    "\n",
    "while acct_bal < bal_goal:\n",
    "    salary *= 1 + rf_rate\n",
    "    matching = salary * match_rate\n",
    "    inv *= 1 + 0.14\n",
    "    acct_bal += deposit + matching + inv\n",
    "    cur_age += 1\n",
    "\n",
    "print(cur_age)"
   ]
  }
 ],
 "metadata": {
  "kernelspec": {
   "display_name": "Python 3",
   "language": "python",
   "name": "python3"
  },
  "language_info": {
   "codemirror_mode": {
    "name": "ipython",
    "version": 3
   },
   "file_extension": ".py",
   "mimetype": "text/x-python",
   "name": "python",
   "nbconvert_exporter": "python",
   "pygments_lexer": "ipython3",
   "version": "3.10.7"
  }
 },
 "nbformat": 4,
 "nbformat_minor": 2
}
