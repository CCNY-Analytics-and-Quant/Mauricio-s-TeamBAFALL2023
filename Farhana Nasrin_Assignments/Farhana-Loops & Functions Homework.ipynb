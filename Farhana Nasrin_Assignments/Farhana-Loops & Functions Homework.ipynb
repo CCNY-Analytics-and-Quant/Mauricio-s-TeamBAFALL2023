{
 "cells": [
  {
   "cell_type": "code",
   "execution_count": 33,
   "id": "760e5ad2-5f15-471b-9c63-e25177d1cb93",
   "metadata": {},
   "outputs": [
    {
     "name": "stdin",
     "output_type": "stream",
     "text": [
      "What is your current account balance? 5000\n",
      "How much will you contribute every year? 500\n",
      "What is your current age? 20\n",
      "At what age do you plan on retiring? 60\n",
      "What is your current salary? 100000\n",
      "What match rate is your employer willing to provide? 0.05\n",
      "What is the expected annual salary growth percentage? 0.025\n"
     ]
    },
    {
     "name": "stdout",
     "output_type": "stream",
     "text": [
      "At the age of 60.0 you will have 9913404.521819036 in your retirement fund.\n"
     ]
    }
   ],
   "source": [
    "#For Loop - Calculating Retirement Fund \n",
    "acct_bal = float(input('What is your current account balance?'))\n",
    "deposit = float(input('How much will you contribute every year?'))\n",
    "cur_age = float(input('What is your current age?'))\n",
    "ret_age = float(input('At what age do you plan on retiring?'))\n",
    "salary = float(input('What is your current salary?'))\n",
    "match_rate = float(input('What match rate is your employer willing to provide?'))\n",
    "rf_rate = float(input('What is the expected annual salary growth percentage?'))\n",
    "\n",
    "matching = 0\n",
    "inv_return = 0.14 \n",
    "\n",
    "for year in range(int(cur_age), int(ret_age)):\n",
    "    inv_earnings = acct_bal * inv_return\n",
    "    salary *= 1 + rf_rate\n",
    "    matching = salary * match_rate\n",
    "    acct_bal = acct_bal + deposit + matching + inv_earnings\n",
    "    \n",
    "print('At the age of', ret_age, 'you will have',acct_bal, 'in your retirement fund.')"
   ]
  },
  {
   "cell_type": "code",
   "execution_count": 32,
   "id": "613961d2-239f-4081-a9ee-105f5596107b",
   "metadata": {},
   "outputs": [
    {
     "name": "stdin",
     "output_type": "stream",
     "text": [
      "What is your current age? 20\n",
      "What is your current account balance? 5000\n",
      "How much will you contribute every year? 500\n",
      "What is your current salary? 100000\n",
      "What match rate is your employer willing to provide? 0.05\n",
      "What is the expected annual salary growth percentage? 0.025\n",
      "What is your desired retirement balance? 1000000\n"
     ]
    },
    {
     "name": "stdout",
     "output_type": "stream",
     "text": [
      "You will earn 1000000.0 at the age of 64.0\n"
     ]
    }
   ],
   "source": [
    "#While Loop for Retirement Fund\n",
    "cur_age = float(input('What is your current age?'))\n",
    "acct_bal = float(input('What is your current account balance?'))\n",
    "deposit = float(input('How much will you contribute every year?'))\n",
    "salary = float(input('What is your current salary?'))\n",
    "match_rate = float(input('What match rate is your employer willing to provide?'))\n",
    "rf_rate = float(input('What is the expected annual salary growth percentage?'))\n",
    "desired_bal = float(input('What is your desired retirement balance?'))\n",
    "\n",
    "matching = 0\n",
    "inv_return = 0.14\n",
    "year_counter = cur_age\n",
    "\n",
    "while acct_bal < desired_bal:\n",
    "    inv_earnings = acct_bal * inv_return\n",
    "    salary *= 1 + rf_rate\n",
    "    matching = salary * match_rate\n",
    "    acct_bal = acct_bal + deposit + matching + inv_earnings\n",
    "    year_counter += 1\n",
    "    ret_age = cur_age + year_counter\n",
    "print('You will earn',desired_bal, 'at the age of', ret_age)"
   ]
  },
  {
   "cell_type": "code",
   "execution_count": 31,
   "id": "e5097319-bb1a-4625-ad7c-ce379b0ac35b",
   "metadata": {},
   "outputs": [
    {
     "name": "stdin",
     "output_type": "stream",
     "text": [
      "What is your current account balance? 5000\n",
      "How much will you contribute every year? 500\n",
      "What is your current age? 20\n",
      "At what age do you plan on retiring? 60\n",
      "What is your current salary? 100000\n",
      "What match rate is your employer willing to provide? 0.05\n",
      "What is the expected annual salary growth percentage? 0.025\n"
     ]
    },
    {
     "name": "stdout",
     "output_type": "stream",
     "text": [
      "At the age of 60.0 you will have 9913404.521819036 in your retirement fund.\n"
     ]
    }
   ],
   "source": [
    "#For Loop Function\n",
    "acct_bal = float(input('What is your current account balance?'))\n",
    "deposit = float(input('How much will you contribute every year?'))\n",
    "cur_age = float(input('What is your current age?'))\n",
    "ret_age = float(input('At what age do you plan on retiring?'))\n",
    "salary = float(input('What is your current salary?'))\n",
    "match_rate = float(input('What match rate is your employer willing to provide?'))\n",
    "rf_rate = float(input('What is the expected annual salary growth percentage?'))\n",
    "\n",
    "matching = 0\n",
    "inv_return = 0.14\n",
    "\n",
    "def cal_retirement_fund(acct_bal, deposit, cur_age, ret_age, salary, match_rate, rf_rate, inv_return):\n",
    "    for year in range(int(cur_age), int(ret_age)):\n",
    "        inv_earnings = acct_bal * inv_return\n",
    "        salary *= 1 + rf_rate\n",
    "        matching = salary * match_rate\n",
    "        acct_bal = acct_bal + deposit + matching + inv_earnings\n",
    "    return acct_bal\n",
    "\n",
    "f_balance = cal_retirement_fund(acct_bal, deposit, cur_age, ret_age, salary, match_rate, rf_rate, inv_return)\n",
    "\n",
    "print('At the age of', ret_age, 'you will have', f_balance, 'in your retirement fund.')\n",
    "    \n"
   ]
  },
  {
   "cell_type": "code",
   "execution_count": 30,
   "id": "fb3c8a84-c7b4-42ea-a384-375c868ad268",
   "metadata": {},
   "outputs": [
    {
     "name": "stdin",
     "output_type": "stream",
     "text": [
      "What is your current age? 20\n",
      "What is your current account balance? 5000\n",
      "How much will you contribute every year? 500\n",
      "What is your current salary? 100000\n",
      "What match rate is your employer willing to provide? 0.05\n",
      "What is the expected annual salary growth percentage? 0.025\n",
      "What is your desired retirement balance? 1000000\n"
     ]
    },
    {
     "name": "stdout",
     "output_type": "stream",
     "text": [
      "You will earn 1000000.0 at the age of 64.0\n"
     ]
    }
   ],
   "source": [
    "#While Loop Function\n",
    "cur_age = float(input('What is your current age?'))\n",
    "acct_bal = float(input('What is your current account balance?'))\n",
    "deposit = float(input('How much will you contribute every year?'))\n",
    "salary = float(input('What is your current salary?'))\n",
    "match_rate = float(input('What match rate is your employer willing to provide?'))\n",
    "rf_rate = float(input('What is the expected annual salary growth percentage?'))\n",
    "desired_bal = float(input('What is your desired retirement balance?'))\n",
    "\n",
    "matching = 0\n",
    "inv_return = 0.14\n",
    "year_counter = cur_age\n",
    "\n",
    "def cal_desired_retirement_fund(cur_age, acct_bal, deposit, salary, match_rate, rf_rate, inv_return, desired_bal):\n",
    "    year_counter = cur_age\n",
    "    \n",
    "    while acct_bal < desired_bal: \n",
    "        inv_earnings = acct_bal * inv_return\n",
    "        salary *= 1 + rf_rate\n",
    "        matching = salary * match_rate\n",
    "        acct_bal = acct_bal + deposit + matching + inv_earnings\n",
    "        year_counter += 1\n",
    "        ret_age = cur_age + year_counter\n",
    "    return ret_age\n",
    "\n",
    "retirement_age = cal_desired_retirement_fund(cur_age, acct_bal, deposit, salary, match_rate, rf_rate, inv_return, desired_bal)\n",
    "\n",
    "print('You will earn', desired_bal, 'at the age of', retirement_age)\n"
   ]
  },
  {
   "cell_type": "code",
   "execution_count": null,
   "id": "f28f3b2f-57da-49a2-a3b1-f173460402eb",
   "metadata": {},
   "outputs": [],
   "source": [
    "\n",
    "# Credits:\n",
    "# John Droescher- Intro_to_Python\n",
    "# GeeksforGeeks- Python Functions\n",
    "# Jiaaro- Github Gist\n"
   ]
  }
 ],
 "metadata": {
  "kernelspec": {
   "display_name": "Python 3 (ipykernel)",
   "language": "python",
   "name": "python3"
  },
  "language_info": {
   "codemirror_mode": {
    "name": "ipython",
    "version": 3
   },
   "file_extension": ".py",
   "mimetype": "text/x-python",
   "name": "python",
   "nbconvert_exporter": "python",
   "pygments_lexer": "ipython3",
   "version": "3.9.7"
  }
 },
 "nbformat": 4,
 "nbformat_minor": 5
}
